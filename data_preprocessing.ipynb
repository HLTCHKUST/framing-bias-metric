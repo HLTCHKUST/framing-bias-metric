{
 "cells": [
  {
   "cell_type": "markdown",
   "id": "77b2e441",
   "metadata": {},
   "source": [
    "ACL2022 - Analysis and data-processing of AllSides ARTICLE-LEVEL "
   ]
  },
  {
   "cell_type": "code",
   "execution_count": 5,
   "id": "ebdfb21c",
   "metadata": {},
   "outputs": [],
   "source": [
    "import jsonlines\n",
    "from collections import Counter, defaultdict\n",
    "import pandas as pd\n",
    "import json\n",
    "import random\n",
    "\n",
    "from nltk import word_tokenize, sent_tokenize\n",
    "from nltk.stem import PorterStemmer\n",
    "from nltk.stem import WordNetLemmatizer\n",
    "\n",
    "from rouge import Rouge\n",
    "rouge = Rouge()\n",
    "\n",
    "from sklearn.model_selection import train_test_split\n"
   ]
  },
  {
   "cell_type": "code",
   "execution_count": 10,
   "id": "5fcd61fd",
   "metadata": {},
   "outputs": [],
   "source": [
    "import re\n",
    "\n",
    "porter = PorterStemmer()\n",
    "wordnet_lemmatizer = WordNetLemmatizer()\n",
    "\n",
    "def preprocess_text(text, join_again=True):\n",
    "    text = text.replace(\"U.S.\", \"USA\")\n",
    "    text = text.lower()\n",
    "    text = re.sub(r'[^\\w\\s]','',text)\n",
    "    tokens = [wordnet_lemmatizer.lemmatize(w) for w in word_tokenize(text)]\n",
    "    \n",
    "    if join_again:\n",
    "        text = \" \".join(tokens)\n",
    "        return text\n",
    "    else:\n",
    "        return tokens\n",
    "\n",
    "def preprocess_texts(text_list):\n",
    "    return [preprocess_text(text) for text in text_list]\n",
    "# print(preprocess_text(s))"
   ]
  },
  {
   "cell_type": "code",
   "execution_count": 11,
   "id": "e0031dbb",
   "metadata": {},
   "outputs": [],
   "source": [
    "def remove_dotdotdot(article_text):\n",
    "#     print(article_text)\n",
    "    sents = [ sent for sent in sent_tokenize(article_text) if '...' not in sent]\n",
    "    \n",
    "#     print(\" \".join(sents))\n",
    "    \n",
    "    return \" \".join(sents)"
   ]
  },
  {
   "cell_type": "markdown",
   "id": "74ed6bf2",
   "metadata": {},
   "source": [
    "### 0. Load crawled data & preprocess ( can skip if using the file we provided ) "
   ]
  },
  {
   "cell_type": "code",
   "execution_count": 12,
   "id": "06ac25fd",
   "metadata": {},
   "outputs": [
    {
     "ename": "FileNotFoundError",
     "evalue": "[Errno 2] No such file or directory: 'data/all_crawled_combined_filtered_RoundupLeftCenterRight.jsonl'",
     "output_type": "error",
     "traceback": [
      "\u001b[0;31m---------------------------------------------------------------------------\u001b[0m",
      "\u001b[0;31mFileNotFoundError\u001b[0m                         Traceback (most recent call last)",
      "\u001b[0;32m<ipython-input-12-23c0ae05e5b0>\u001b[0m in \u001b[0;36m<module>\u001b[0;34m\u001b[0m\n\u001b[0;32m----> 1\u001b[0;31m \u001b[0;32mwith\u001b[0m \u001b[0mjsonlines\u001b[0m\u001b[0;34m.\u001b[0m\u001b[0mopen\u001b[0m\u001b[0;34m(\u001b[0m\u001b[0;34m'data/all_crawled_combined_filtered_RoundupLeftCenterRight.jsonl'\u001b[0m\u001b[0;34m)\u001b[0m \u001b[0;32mas\u001b[0m \u001b[0mreader\u001b[0m\u001b[0;34m:\u001b[0m\u001b[0;34m\u001b[0m\u001b[0;34m\u001b[0m\u001b[0m\n\u001b[0m\u001b[1;32m      2\u001b[0m \u001b[0;31m# with jsonlines.open('data/all_crawled_combined_filtered_LeftCenterRight_WITHOUT_Roundup.jsonl') as reader:\u001b[0m\u001b[0;34m\u001b[0m\u001b[0;34m\u001b[0m\u001b[0;34m\u001b[0m\u001b[0m\n\u001b[1;32m      3\u001b[0m     \u001b[0mall_objs\u001b[0m \u001b[0;34m=\u001b[0m \u001b[0;34m[\u001b[0m\u001b[0mobj\u001b[0m \u001b[0;32mfor\u001b[0m \u001b[0mobj\u001b[0m \u001b[0;32min\u001b[0m \u001b[0mreader\u001b[0m\u001b[0;34m]\u001b[0m\u001b[0;34m\u001b[0m\u001b[0;34m\u001b[0m\u001b[0m\n\u001b[1;32m      4\u001b[0m \u001b[0mlen\u001b[0m\u001b[0;34m(\u001b[0m\u001b[0mall_objs\u001b[0m\u001b[0;34m)\u001b[0m\u001b[0;34m\u001b[0m\u001b[0;34m\u001b[0m\u001b[0m\n",
      "\u001b[0;32m~/anaconda3/envs/neutralization/lib/python3.6/site-packages/jsonlines/jsonlines.py\u001b[0m in \u001b[0;36mopen\u001b[0;34m(name, mode, **kwargs)\u001b[0m\n\u001b[1;32m    320\u001b[0m     \u001b[0;32mif\u001b[0m \u001b[0mmode\u001b[0m \u001b[0;32mnot\u001b[0m \u001b[0;32min\u001b[0m \u001b[0;34m{\u001b[0m\u001b[0;34m\"r\"\u001b[0m\u001b[0;34m,\u001b[0m \u001b[0;34m\"w\"\u001b[0m\u001b[0;34m,\u001b[0m \u001b[0;34m\"a\"\u001b[0m\u001b[0;34m}\u001b[0m\u001b[0;34m:\u001b[0m\u001b[0;34m\u001b[0m\u001b[0;34m\u001b[0m\u001b[0m\n\u001b[1;32m    321\u001b[0m         \u001b[0;32mraise\u001b[0m \u001b[0mValueError\u001b[0m\u001b[0;34m(\u001b[0m\u001b[0;34m\"'mode' must be either 'r', 'w', or 'a'\"\u001b[0m\u001b[0;34m)\u001b[0m\u001b[0;34m\u001b[0m\u001b[0;34m\u001b[0m\u001b[0m\n\u001b[0;32m--> 322\u001b[0;31m     \u001b[0mfp\u001b[0m \u001b[0;34m=\u001b[0m \u001b[0mbuiltins\u001b[0m\u001b[0;34m.\u001b[0m\u001b[0mopen\u001b[0m\u001b[0;34m(\u001b[0m\u001b[0mname\u001b[0m\u001b[0;34m,\u001b[0m \u001b[0mmode\u001b[0m\u001b[0;34m=\u001b[0m\u001b[0mmode\u001b[0m \u001b[0;34m+\u001b[0m \u001b[0;34m\"t\"\u001b[0m\u001b[0;34m,\u001b[0m \u001b[0mencoding\u001b[0m\u001b[0;34m=\u001b[0m\u001b[0;34m\"utf-8\"\u001b[0m\u001b[0;34m)\u001b[0m\u001b[0;34m\u001b[0m\u001b[0;34m\u001b[0m\u001b[0m\n\u001b[0m\u001b[1;32m    323\u001b[0m     \u001b[0;32mif\u001b[0m \u001b[0mmode\u001b[0m \u001b[0;34m==\u001b[0m \u001b[0;34m\"r\"\u001b[0m\u001b[0;34m:\u001b[0m\u001b[0;34m\u001b[0m\u001b[0;34m\u001b[0m\u001b[0m\n\u001b[1;32m    324\u001b[0m         \u001b[0minstance\u001b[0m \u001b[0;34m=\u001b[0m \u001b[0mReader\u001b[0m\u001b[0;34m(\u001b[0m\u001b[0mfp\u001b[0m\u001b[0;34m,\u001b[0m \u001b[0;34m**\u001b[0m\u001b[0mkwargs\u001b[0m\u001b[0;34m)\u001b[0m\u001b[0;34m\u001b[0m\u001b[0;34m\u001b[0m\u001b[0m\n",
      "\u001b[0;31mFileNotFoundError\u001b[0m: [Errno 2] No such file or directory: 'data/all_crawled_combined_filtered_RoundupLeftCenterRight.jsonl'"
     ]
    }
   ],
   "source": [
    "with jsonlines.open('data/all_crawled_combined_filtered_RoundupLeftCenterRight.jsonl') as reader:\n",
    "# with jsonlines.open('data/all_crawled_combined_filtered_LeftCenterRight_WITHOUT_Roundup.jsonl') as reader:\n",
    "    all_objs = [obj for obj in reader]\n",
    "len(all_objs)"
   ]
  },
  {
   "cell_type": "code",
   "execution_count": null,
   "id": "25e2f8d8",
   "metadata": {},
   "outputs": [],
   "source": [
    "# new version for acl2022 ARR version: data/headline_11_2021-10-19_crawled_all.jsonl\n",
    "with jsonlines.open('data/headline_11_2021-10-19_crawled_all.jsonl') as reader:\n",
    "    new_objs = [obj for obj in reader]\n",
    "len(new_objs)"
   ]
  },
  {
   "cell_type": "code",
   "execution_count": null,
   "id": "592068db",
   "metadata": {},
   "outputs": [],
   "source": [
    "# filter and obtain only those having all roundup/left/center/right. \n",
    "filterd_new_objs = []\n",
    "for obj in new_objs:\n",
    "    if obj['roundup'] != [] and len(obj['news']) == 3:\n",
    "        filterd_new_objs.append(obj)\n",
    "len(filterd_new_objs)"
   ]
  },
  {
   "cell_type": "code",
   "execution_count": null,
   "id": "751430df",
   "metadata": {},
   "outputs": [],
   "source": [
    "all_objs.extend(filterd_new_objs)"
   ]
  },
  {
   "cell_type": "code",
   "execution_count": null,
   "id": "98dea7de",
   "metadata": {},
   "outputs": [],
   "source": [
    "len(all_objs)"
   ]
  },
  {
   "cell_type": "markdown",
   "id": "8f12cfda",
   "metadata": {},
   "source": [
    "Filter by Rouge"
   ]
  },
  {
   "cell_type": "code",
   "execution_count": null,
   "id": "428fd32c",
   "metadata": {},
   "outputs": [],
   "source": [
    "print(\"Before Filtering: \", len(lefts))\n",
    "\n",
    "filtered_obj = []\n",
    "\n",
    "cnt = 0\n",
    "for idx, (left, right, center, issue, topic, roundup) in enumerate(zip(lefts, rights, centers, issues, topics, roundups)):\n",
    "    combined_title = \" \".join([left['newsTitle'], right['newsTitle'], center['newsTitle']])\n",
    "    single_rouge_score = rouge.get_scores(preprocess_text(combined_title), preprocess_text(issue))\n",
    "    rouge1_recall_score = single_rouge_score[0]['rouge-1']['r']\n",
    "    \n",
    "    # filter step 1: filter ROUGE1-R < 0.3\n",
    "    if str(rouge1_recall_score)[:3] >= '0.3':\n",
    "        # filter step 2: keyword-based removal\n",
    "        if \"reaction\" in issue.lower() or \"follow-up\" in issue.lower() or \"perspective\" in issue.lower():\n",
    "#             print(issue) # 175 filtered\n",
    "            continue\n",
    "        # filter step 3: remove short sentences. but how short?\n",
    "        if len(issue.split(\" \")) > 3:\n",
    "\n",
    "            filtered_obj.append({\n",
    "                \"left\": left, \n",
    "                \"right\": right,\n",
    "                \"center\": center, \n",
    "                \"issue\": issue,\n",
    "                \"topic\": topic, \n",
    "                \"roundup\": roundup\n",
    "            })\n",
    "    \n",
    "    \n",
    "print(\"After Filtering: \", len(filtered_obj))\n"
   ]
  },
  {
   "cell_type": "code",
   "execution_count": null,
   "id": "80f39ab9",
   "metadata": {},
   "outputs": [],
   "source": [
    "'''\n",
    "    OBJ FORMAT:\n",
    "    {\n",
    "        \"left\": left, \n",
    "        \"right\": right,\n",
    "        \"center\": center, \n",
    "        \"issue\": issue,\n",
    "        \"topic\": topic, \n",
    "        \"roundup\": roundup\n",
    "    }\n",
    "\n",
    "'''\n",
    "FILTER_WORDS = [\n",
    "    'left-',\n",
    "    'right-',\n",
    "    'right-rated',\n",
    "    'left-rated',\n",
    "    'coverage',\n",
    "    'coverage,',\n",
    "    'coverage.',\n",
    "    'outlets',\n",
    "    'outlets,',\n",
    "    'left-leaning',\n",
    "    'right-leaning',\n",
    "    'reporting'\n",
    "]\n",
    "FILTER_WORDS_set = set(FILTER_WORDS)"
   ]
  },
  {
   "cell_type": "code",
   "execution_count": null,
   "id": "71560793",
   "metadata": {
    "scrolled": true
   },
   "outputs": [],
   "source": []
  },
  {
   "cell_type": "code",
   "execution_count": null,
   "id": "12ee5696",
   "metadata": {
    "scrolled": true
   },
   "outputs": [],
   "source": [
    "is_filtering_polarity_mention = True\n",
    "do_print = False\n",
    "\n",
    "PREPROCESSED_FILTERED_OBJ = []\n",
    "for idx, obj in enumerate(filtered_obj):       \n",
    "    # ONLY SHOWING LAST PART OF ROUND UP\n",
    "    updated_roundup = []\n",
    "    if len(obj['roundup']) == 0 or len(obj['roundup']) >3:\n",
    "        continue\n",
    "    for idx_2, l in enumerate(obj['roundup']):\n",
    "        if idx_2 == 0:\n",
    "            updated_roundup.append(l)\n",
    "        else:\n",
    "            if not is_filtering_polarity_mention:    \n",
    "                if do_print:\n",
    "                    print(l, \"\\n\")\n",
    "            else:\n",
    "                split_l = set(l.lower().split())\n",
    "                inter = split_l.intersection(FILTER_WORDS_set)\n",
    "                if len(inter) == 0 and l != '\\xa0':\n",
    "                    if do_print:\n",
    "                        print(l, \"\\n\")\n",
    "                    updated_roundup.append(l)\n",
    "                    filtered_obj[idx]['roundup'] = []\n",
    "        obj['roundup'] = updated_roundup\n",
    "    PREPROCESSED_FILTERED_OBJ.append(obj)\n",
    "                    \n",
    "#     print()\n",
    "#     if idx % 2000 == 0 and idx > 1000:\n",
    "#         break"
   ]
  },
  {
   "cell_type": "code",
   "execution_count": null,
   "id": "230bc26c",
   "metadata": {},
   "outputs": [],
   "source": [
    "len(PREPROCESSED_FILTERED_OBJ)"
   ]
  },
  {
   "cell_type": "code",
   "execution_count": null,
   "id": "d0fe8e2d",
   "metadata": {},
   "outputs": [],
   "source": [
    "PREPROCESSED_FILTERED_OBJ[0]"
   ]
  },
  {
   "cell_type": "code",
   "execution_count": null,
   "id": "d6077e5b",
   "metadata": {},
   "outputs": [],
   "source": [
    "\n"
   ]
  },
  {
   "cell_type": "code",
   "execution_count": null,
   "id": "26de93ca",
   "metadata": {},
   "outputs": [],
   "source": []
  },
  {
   "cell_type": "markdown",
   "id": "3f00ca3f",
   "metadata": {},
   "source": [
    "## 1. Format and Save PREPROCESSED_FILTERED_OBJ"
   ]
  },
  {
   "cell_type": "markdown",
   "id": "c67cb1fe",
   "metadata": {},
   "source": [
    "Instruction: Replace `PREPROCESSED_FILTERED_OBJ` with new objs if you want to use your own custom dataset"
   ]
  },
  {
   "cell_type": "code",
   "execution_count": null,
   "id": "edbedbeb",
   "metadata": {},
   "outputs": [],
   "source": [
    "with open(\"data/acl2022_filtered_allsides_article.json\", \"r\") as infile:\n",
    "    PREPROCESSED_FILTERED_OBJ = json.load(infile) "
   ]
  },
  {
   "cell_type": "code",
   "execution_count": null,
   "id": "6c863eaa",
   "metadata": {},
   "outputs": [],
   "source": []
  },
  {
   "cell_type": "markdown",
   "id": "a6671f36",
   "metadata": {},
   "source": [
    "### Version 1: standard format"
   ]
  },
  {
   "cell_type": "code",
   "execution_count": null,
   "id": "597a5638",
   "metadata": {},
   "outputs": [],
   "source": [
    "'''\n",
    "    ######### Format ########\n",
    "    \n",
    "    SOURCE: body_text_1 [SEP] body_text_2 [SEP] body_text_3\n",
    "    \n",
    "    TARGET: target_text\n",
    "    \n",
    "'''"
   ]
  },
  {
   "cell_type": "code",
   "execution_count": null,
   "id": "2ecfe8fc",
   "metadata": {},
   "outputs": [],
   "source": [
    "def create_source_target_with_processing(objs, phase):\n",
    "    \n",
    "    target_path = 'data/acl2022_lrc_roundup_random_order/{}.target'.format(phase)\n",
    "    source_path = 'data/acl2022_lrc_roundup_random_order/{}.source'.format(phase)\n",
    "\n",
    "    for idx, obj in enumerate(objs):\n",
    "        # center always in the beginning\n",
    "        # left, right --> half/half\n",
    "\n",
    "        left_body = remove_dotdotdot(\" \".join(obj['left']['newBody']))\n",
    "        right_body = remove_dotdotdot(\" \".join(obj['right']['newBody']))\n",
    "        center_body = remove_dotdotdot(\" \".join(obj['center']['newBody']))\n",
    "        \n",
    "        # shutffle the order of political orientation in the source doc\n",
    "        \n",
    "        all_bodies = [('L', left_body), ('R', right_body), ('C', center_body)]\n",
    "        random.shuffle(all_bodies)\n",
    "        \n",
    "        source = \" [SEP] \".join([item[1] for item in all_bodies]).replace(\"\\n\", \"\")\n",
    "        source_order_string = \" [SEP] \".join([item[0] for item in all_bodies])\n",
    "        \n",
    "        target = \" \".join(obj['roundup']).replace(\"\\n\", \"\")\n",
    "        \n",
    "\n",
    "        with open(target_path, \"a\") as target_file:\n",
    "            target_file.write(target)\n",
    "            target_file.write(\"\\n\")\n",
    "\n",
    "        with open(source_path, \"a\") as source_file: \n",
    "            source_file.write(source)\n",
    "            source_file.write(\"\\n\")\n",
    "\n",
    "\n",
    "        with open('data/acl2022_lrc_roundup_random_order.source_order.{}.txt'.format(phase), \"a\") as outfile:\n",
    "            outfile.write(source_order_string)\n",
    "            outfile.write(\"\\n\")\n"
   ]
  },
  {
   "cell_type": "code",
   "execution_count": null,
   "id": "120337b3",
   "metadata": {},
   "outputs": [],
   "source": [
    "# for allsides\n",
    "# split all_objs into train/val/test\n",
    "article_train, article_not_train = train_test_split(PREPROCESSED_FILTERED_OBJ, test_size=0.2, random_state=42)\n",
    "article_val, article_test = train_test_split(article_not_train, test_size=0.5, random_state=42)"
   ]
  },
  {
   "cell_type": "code",
   "execution_count": null,
   "id": "aab88275",
   "metadata": {},
   "outputs": [],
   "source": [
    "create_source_target_with_processing(article_train, 'train')\n",
    "\n",
    "create_source_target_with_processing(article_val, 'val')\n",
    "\n",
    "create_source_target_with_processing(article_test, 'test')"
   ]
  },
  {
   "cell_type": "code",
   "execution_count": null,
   "id": "a8a08f57",
   "metadata": {},
   "outputs": [],
   "source": []
  },
  {
   "cell_type": "markdown",
   "id": "367392dc",
   "metadata": {},
   "source": [
    "### Version 2: probe format (TITLE=> title_content. ARTICLE=> article_content)"
   ]
  },
  {
   "cell_type": "code",
   "execution_count": 14,
   "id": "c6f5eb96",
   "metadata": {},
   "outputs": [],
   "source": [
    "'''\n",
    "    ######### Format ########\n",
    "    \n",
    "    SOURCE: TITLE=> title_text_1. ARTICLE=> body_text_1. [SEP] \n",
    "            TITLE=> title_text_2. ARTICLE=> body_text_2. [SEP] \n",
    "            TITLE=> title_text_3. ARTICLE=> body_text_3.\n",
    "    \n",
    "    TARGET: TITLE=> target_title. ARTICLE=> target_body_text.\n",
    "    \n",
    "'''"
   ]
  },
  {
   "cell_type": "code",
   "execution_count": null,
   "id": "c6c7af87",
   "metadata": {},
   "outputs": [],
   "source": [
    "def create_source_target_with_processing_probe_format(objs, phase):\n",
    "    \n",
    "    target_path = 'data/lrc_roundup_random_order_probe/{}.target'.format(phase)\n",
    "    source_path = 'data/lrc_roundup_random_order_probe/{}.source'.format(phase)\n",
    "\n",
    "    for idx, obj in enumerate(objs):\n",
    "\n",
    "        left_body = remove_dotdotdot(\" \".join(obj['left']['newBody']))\n",
    "        right_body = remove_dotdotdot(\" \".join(obj['right']['newBody']))\n",
    "        center_body = remove_dotdotdot(\" \".join(obj['center']['newBody']))\n",
    "        \n",
    "        left_title = obj['left']['newsTitle']\n",
    "        right_title = obj['right']['newsTitle']\n",
    "        center_title = obj['center']['newsTitle']\n",
    "        \n",
    "        \n",
    "        all_bodies = [('L', left_body, left_title), ('R', right_body, right_title), ('C', center_body, center_title)]\n",
    "        random.shuffle(all_bodies)\n",
    "\n",
    "        source = \" [SEP] \".join([ \"TITLE=> {}. ARTICLE=> {}\".format(item[2],item[1]) for item in all_bodies]).replace(\"\\n\", \"\")\n",
    "        source_order_string = \" [SEP] \".join([item[0] for item in all_bodies])\n",
    "        \n",
    "        \n",
    "        roundup = \" \".join(obj['roundup']).replace(\"\\n\", \"\")\n",
    "        target = \"TITLE=> {}. ARTICLE=> {}\".format(obj['issue'], roundup)\n",
    "            \n",
    "#         print(source, \"\\n\")\n",
    "#         print(target, \"\\n\")\n",
    "#         break\n",
    "        \n",
    "        \n",
    "        with open(target_path, \"a\") as target_file:\n",
    "            target_file.write(target)\n",
    "            target_file.write(\"\\n\")\n",
    "\n",
    "        with open(source_path, \"a\") as source_file: \n",
    "            source_file.write(source)\n",
    "            source_file.write(\"\\n\")\n",
    "\n"
   ]
  },
  {
   "cell_type": "code",
   "execution_count": null,
   "id": "9e298f19",
   "metadata": {},
   "outputs": [],
   "source": [
    "# for allsides\n",
    "# split all_objs into train/val/test\n",
    "article_train, article_not_train = train_test_split(PREPROCESSED_FILTERED_OBJ, test_size=0.2, random_state=42)\n",
    "article_val, article_test = train_test_split(article_not_train, test_size=0.5, random_state=42)"
   ]
  },
  {
   "cell_type": "code",
   "execution_count": null,
   "id": "25c37622",
   "metadata": {},
   "outputs": [],
   "source": [
    "create_source_target_with_processing_probe_format(article_train, 'train')\n",
    "\n",
    "create_source_target_with_processing_probe_format(article_val, 'val')\n",
    "\n",
    "create_source_target_with_processing_probe_format(article_test, 'test')"
   ]
  },
  {
   "cell_type": "code",
   "execution_count": null,
   "id": "a15f93f4",
   "metadata": {},
   "outputs": [],
   "source": []
  },
  {
   "cell_type": "code",
   "execution_count": null,
   "id": "a36e81e0",
   "metadata": {},
   "outputs": [],
   "source": []
  }
 ],
 "metadata": {
  "kernelspec": {
   "display_name": "Python 3",
   "language": "python",
   "name": "python3"
  },
  "language_info": {
   "codemirror_mode": {
    "name": "ipython",
    "version": 3
   },
   "file_extension": ".py",
   "mimetype": "text/x-python",
   "name": "python",
   "nbconvert_exporter": "python",
   "pygments_lexer": "ipython3",
   "version": "3.6.13"
  }
 },
 "nbformat": 4,
 "nbformat_minor": 5
}
